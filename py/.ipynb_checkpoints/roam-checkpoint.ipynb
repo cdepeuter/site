{
 "cells": [
  {
   "cell_type": "code",
   "execution_count": 61,
   "metadata": {
    "collapsed": false
   },
   "outputs": [],
   "source": [
    "import json\n",
    "import urllib2\n",
    "import urllib\n",
    "import collections\n",
    "import pprint as pp"
   ]
  },
  {
   "cell_type": "code",
   "execution_count": 62,
   "metadata": {
    "collapsed": false
   },
   "outputs": [],
   "source": [
    "def getStates():\n",
    "\n",
    "    url = \"https://quickstats.nass.usda.gov/api/api_GET/?key=FB533CA0-39B4-3513-A20E-6D3F41620D53&commodity_desc=CROP%20TOTALS&year=2014&agg_level_desc=STATE\"\n",
    "\n",
    "    jsn = json.loads(urllib2.urlopen(url).read())\n",
    "    data = jsn[\"data\"]\n",
    "\n",
    "    states = {}\n",
    "    \n",
    "    for d in data:\n",
    "        states[d[\"state_alpha\"]] = (d[\"state_name\"], d['state_ansi'], d[\"state_fips_code\"])\n",
    "        if len(states.keys()) == 50:\n",
    "            return states\n",
    "        \n",
    "    return states\n",
    "\n",
    "def getCountiesForState(st):\n",
    "    #force caps\n",
    "    \n",
    "    \n",
    "    \n",
    "    url = \"https://quickstats.nass.usda.gov/api/api_GET/?key=FB533CA0-39B4-3513-A20E-6D3F41620D53&commodity_desc=CROP%20TOTALS&year=2012&state_alpha=\"+st+\"&agg_level_desc=COUNTY\"\n",
    "    print(url)\n",
    "    jsn = json.loads(urllib2.urlopen(url).read())\n",
    "    data = jsn[\"data\"]\n",
    "\n",
    "    counties = {}\n",
    "    if len(data) > 600:\n",
    "        data = data[0:599]\n",
    "        \n",
    "        \n",
    "    for d in data:\n",
    "        counties[d[\"county_name\"]] = (d[\"county_name\"], d['county_ansi'])\n",
    "\n",
    "        \n",
    "    return counties\n",
    "\n",
    "\n",
    "def getUrl(**kwargs):\n",
    "    url = \"https://quickstats.nass.usda.gov/api/api_GET/?key=FB533CA0-39B4-3513-A20E-6D3F41620D53\"\n",
    "\n",
    "    for k,v in kwargs:\n",
    "        url = url + \"&\" + k + \"=\" + v\n",
    "        \n",
    "    print(url)\n",
    "    \n",
    "    \n",
    "def getCountyCropsByState(st, crop):\n",
    "      \n",
    "    url = \"https://quickstats.nass.usda.gov/api/api_GET/?key=FB533CA0-39B4-3513-A20E-6D3F41620D53&commodity_desc=\"+urllib.quote(crop)+\"&year=2012&state_alpha=\"+st+\"&agg_level_desc=COUNTY\"\n",
    "    print(url)\n",
    "    jsn = json.loads(urllib2.urlopen(url).read())\n",
    "    data = jsn[\"data\"]\n",
    "    \n",
    "    totals = collections.defaultdict(float)\n",
    "    for d in data:\n",
    "        if d[\"Value\"].find(\"(D)\") < 0:\n",
    "            totals[d[\"county_name\"]] += float((d[\"Value\"].replace(',', '')))\n",
    "    \n",
    "    return totals\n"
   ]
  },
  {
   "cell_type": "code",
   "execution_count": 64,
   "metadata": {
    "collapsed": false
   },
   "outputs": [
    {
     "name": "stdout",
     "output_type": "stream",
     "text": [
      "https://quickstats.nass.usda.gov/api/api_GET/?key=FB533CA0-39B4-3513-A20E-6D3F41620D53&commodity_desc=CROP%20TOTALS&year=2012&state_alpha=CT&agg_level_desc=COUNTY\n",
      "{u'FAIRFIELD': 21650269.0,\n",
      " u'HARTFORD': 115143651.0,\n",
      " u'LITCHFIELD': 28023767.0,\n",
      " u'MIDDLESEX': 53954285.0,\n",
      " u'NEW HAVEN': 78799452.0,\n",
      " u'NEW LONDON': 52916542.0,\n",
      " u'TOLLAND': 36944385.0,\n",
      " u'WINDHAM': 18046446.0}\n"
     ]
    }
   ],
   "source": [
    "\n",
    "pp.pprint(dict(getCountyCropsByState(\"CT\", \"CROP TOTALS\")))\n",
    "#urllib.quote(\"CROP TOTALS\")"
   ]
  },
  {
   "cell_type": "code",
   "execution_count": 22,
   "metadata": {
    "collapsed": false
   },
   "outputs": [
    {
     "name": "stdout",
     "output_type": "stream",
     "text": [
      "50\n"
     ]
    }
   ],
   "source": [
    "st = getStates()\n",
    "\n",
    "print(len(st))"
   ]
  },
  {
   "cell_type": "code",
   "execution_count": 12,
   "metadata": {
    "collapsed": false
   },
   "outputs": [
    {
     "name": "stdout",
     "output_type": "stream",
     "text": [
      "https://quickstats.nass.usda.gov/api/api_GET/?key=FB533CA0-39B4-3513-A20E-6D3F41620D53&commodity_desc=CROP%20TOTALS&year=2012&state_alpha=MD&agg_level_desc=COUNTY\n"
     ]
    },
    {
     "data": {
      "text/plain": [
       "{u'ALLEGANY': (u'ALLEGANY', u'001'),\n",
       " u'ANNE ARUNDEL': (u'ANNE ARUNDEL', u'003'),\n",
       " u'BALTIMORE': (u'BALTIMORE', u'005'),\n",
       " u'CALVERT': (u'CALVERT', u'009'),\n",
       " u'CAROLINE': (u'CAROLINE', u'011'),\n",
       " u'CARROLL': (u'CARROLL', u'013'),\n",
       " u'CECIL': (u'CECIL', u'015'),\n",
       " u'CHARLES': (u'CHARLES', u'017'),\n",
       " u'DORCHESTER': (u'DORCHESTER', u'019'),\n",
       " u'FREDERICK': (u'FREDERICK', u'021'),\n",
       " u'GARRETT': (u'GARRETT', u'023'),\n",
       " u'HARFORD': (u'HARFORD', u'025'),\n",
       " u'HOWARD': (u'HOWARD', u'027'),\n",
       " u'KENT': (u'KENT', u'029'),\n",
       " u'MONTGOMERY': (u'MONTGOMERY', u'031'),\n",
       " u'PRINCE GEORGES': (u'PRINCE GEORGES', u'033'),\n",
       " u'QUEEN ANNES': (u'QUEEN ANNES', u'035'),\n",
       " u'SOMERSET': (u'SOMERSET', u'039'),\n",
       " u'ST MARYS': (u'ST MARYS', u'037'),\n",
       " u'TALBOT': (u'TALBOT', u'041'),\n",
       " u'WASHINGTON': (u'WASHINGTON', u'043'),\n",
       " u'WICOMICO': (u'WICOMICO', u'045'),\n",
       " u'WORCESTER': (u'WORCESTER', u'047')}"
      ]
     },
     "execution_count": 12,
     "metadata": {},
     "output_type": "execute_result"
    }
   ],
   "source": [
    "getCountiesForState(\"MD\")"
   ]
  },
  {
   "cell_type": "code",
   "execution_count": 24,
   "metadata": {
    "collapsed": false
   },
   "outputs": [
    {
     "data": {
      "text/plain": [
       "{u'FAIRFIELD': (u'FAIRFIELD', u'001'),\n",
       " u'HARTFORD': (u'HARTFORD', u'003'),\n",
       " u'LITCHFIELD': (u'LITCHFIELD', u'005'),\n",
       " u'MIDDLESEX': (u'MIDDLESEX', u'007'),\n",
       " u'NEW HAVEN': (u'NEW HAVEN', u'009'),\n",
       " u'NEW LONDON': (u'NEW LONDON', u'011'),\n",
       " u'TOLLAND': (u'TOLLAND', u'013'),\n",
       " u'WINDHAM': (u'WINDHAM', u'015')}"
      ]
     },
     "execution_count": 24,
     "metadata": {},
     "output_type": "execute_result"
    }
   ],
   "source": [
    "ct = getCountiesForState(\"CT\")\n",
    "ct"
   ]
  },
  {
   "cell_type": "code",
   "execution_count": 28,
   "metadata": {
    "collapsed": false
   },
   "outputs": [
    {
     "name": "stdout",
     "output_type": "stream",
     "text": [
      "{}\n"
     ]
    }
   ],
   "source": [
    "getUrl()"
   ]
  },
  {
   "cell_type": "code",
   "execution_count": null,
   "metadata": {
    "collapsed": true
   },
   "outputs": [],
   "source": []
  }
 ],
 "metadata": {
  "kernelspec": {
   "display_name": "Python 2",
   "language": "python",
   "name": "python2"
  },
  "language_info": {
   "codemirror_mode": {
    "name": "ipython",
    "version": 2
   },
   "file_extension": ".py",
   "mimetype": "text/x-python",
   "name": "python",
   "nbconvert_exporter": "python",
   "pygments_lexer": "ipython2",
   "version": "2.7.11"
  }
 },
 "nbformat": 4,
 "nbformat_minor": 0
}
